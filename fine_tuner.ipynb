{
 "cells": [
  {
   "cell_type": "code",
   "execution_count": 58,
   "metadata": {},
   "outputs": [],
   "source": [
    "import os;\n",
    "import pandas as pd;\n",
    "import tensorflow as tf; \n",
    "tf.reset_default_graph(); \n",
    "from src.modelFt import *; \n",
    "from src.utils import *\n",
    "import math\n",
    "import random\n",
    "import seaborn\n",
    "import sys\n",
    "import sklearn"
   ]
  },
  {
   "cell_type": "code",
   "execution_count": 59,
   "metadata": {},
   "outputs": [],
   "source": [
    "# Load word vectors and get data directory\n",
    "encoder = \"pcnn\"\n",
    "selector = \"att\"\n",
    "dataset_name = \"nyt2\"\n",
    "max_classes = 53\n",
    "l2_lambd = 0.0\n",
    "_, word_vec_mat = load_word_vec(os.path.join(\"data\", \"nyt2\"))\n",
    "data_dir = os.path.join(\"data\", dataset_name)\n",
    "fname_prefix = encoder + \"_\" + selector + \"_\" + dataset_name + \"_ft_\" + str(max_classes) + \"_n_\" + str(l2_lambd) + \"_\"\n",
    "best_auc = 0.1\n",
    "preprocessed_data_dir = get_preprocessed_dir(data_dir)\n",
    "train_data = load_data(preprocessed_data_dir, max_classes)\n",
    "test_data = load_data(preprocessed_data_dir, max_classes, \"test\")\n"
   ]
  },
  {
   "cell_type": "code",
   "execution_count": 60,
   "metadata": {},
   "outputs": [],
   "source": [
    "# Converting data to entity pairs\n",
    "n_epochs = 2\n",
    "\n",
    "pair_bag_loc = train_data[-1]\n",
    "pairs = list(pair_bag_loc.keys())\n",
    "pairs_dict = get_dev_pairs_dict(pairs)\n",
    "n_train_batches = len(pairs) // batch_size\n",
    "\n",
    "test_pair_bag_loc = test_data[-1]\n",
    "test_pairs = list(test_pair_bag_loc.keys())\n",
    "test_pairs_dict = get_dev_pairs_dict(test_pairs)\n",
    "n_test_batches = len(test_pairs) // batch_size"
   ]
  },
  {
   "cell_type": "code",
   "execution_count": 67,
   "metadata": {},
   "outputs": [
    {
     "name": "stdout",
     "output_type": "stream",
     "text": [
      "5\n",
      "10\n",
      "15\n",
      "4000 19000 1950\n"
     ]
    }
   ],
   "source": [
    "# Read json file for relation to ID\n",
    "import json\n",
    "with open(\"./data/nyt2/relToId.json\", \"r\") as f:\n",
    "    relToId = json.load(f)\n",
    "\n",
    "# Read data for fine tuning\n",
    "trainNonNA = []\n",
    "for j in range(4):\n",
    "    with open(\"saved/aucs/train_preds/pcnn_att_nyt2_none_53_n_0_0.3455_NonNA_{}__preds.csv\".format(j), \"r\") as f:\n",
    "        data = pd.read_csv(f1, prefix = \"col\", header = None)\n",
    "        trainNonNA_ = data.col0.tolist()\n",
    "        relsNonNa_ = [\"#\" + str(relToId[rel]) for rel in data.col2.tolist()]\n",
    "        for i in range(len(trainNonNA_)):\n",
    "            trainNonNA_[i] = trainNonNA_[i] + relsNonNa_[i]\n",
    "        trainNonNA.extend(trainNonNA_)\n",
    "\n",
    "trainNA = []\n",
    "for j in range(1, 20):\n",
    "    if j%5 == 0:\n",
    "        print(j)\n",
    "    with open(\"saved/aucs/train_preds/pcnn_att_nyt2_none_53_n_0_0.3455_NA_{}__preds.csv\".format(j), \"r\") as f:\n",
    "        data = pd.read_csv(f, prefix = \"col\", header = None)\n",
    "    trainNA.extend([k + \"#0\" for k in data.col0.tolist()])\n",
    "all_pairs = pairs\n",
    "pairs = trainNA + trainNonNA\n",
    "random.shuffle(pairs)\n",
    "n_train_batches = len(pairs) // batch_size\n",
    "not_NA_rels = 1950\n",
    "print(len(trainNonNA), len(trainNA), not_NA_rels)"
   ]
  },
  {
   "cell_type": "code",
   "execution_count": 68,
   "metadata": {},
   "outputs": [],
   "source": [
    "def lr_vs_loss(model, start):\n",
    "    random.shuffle(pairs)\n",
    "    increments = 30\n",
    "    no = 5 * increments\n",
    "    split_pairs = [pairs[i * batch_size : (i + 1) * batch_size] for i in range(no)]\n",
    "    x, y = model.print_lr_los(split_pairs, train_data, increments, start)\n",
    "    seaborn.lineplot([math.log10(k) for k in x], y)\n",
    "\n",
    "def test_model(batches, pairs, pairs_dict, processed_data, print_vals = False):\n",
    "    test_res = []\n",
    "    for i in range(batches):\n",
    "        batch_keys = pairs[i * batch_size : (i + 1) * batch_size]\n",
    "        words, pos1, pos2, inst_rels, masks, lengths, \\\n",
    "          rels, scope = batch_maker(processed_data, batch_keys)\n",
    "        \n",
    "        output, _ = model.test_batch(words, pos1, pos2, inst_rels, \n",
    "          masks, lengths, rels, scope)\n",
    "\n",
    "        for i, k in enumerate(batch_keys):\n",
    "            entPair = \"#\".join(k.split(\"#\")[:2])\n",
    "            entPairRels = pairs_dict[entPair]\n",
    "            for j in range(1, max_classes):\n",
    "                correct = 0\n",
    "                if j in entPairRels:\n",
    "                    correct = 1\n",
    "                test_res.append({\"entPair\" : entPair, \"actual\" : entPairRels, \"predicted\" : j,\n",
    "                  \"score\" : output[i][j], \"correct\" : correct})\n",
    "    prec = []\n",
    "    recall = []\n",
    "    correct = 0\n",
    "    sorted_test_result = sorted(test_res, key=lambda x: x['score'], reverse = True)\n",
    "\n",
    "    import time\n",
    "    start = time.time()\n",
    "    if print_vals:\n",
    "        for item in sorted_test_result[:100]:\n",
    "            print(item[\"entPair\"], item[\"actual\"], item[\"predicted\"], end=' -!-')\n",
    "\n",
    "    \n",
    "    for i, item in enumerate(sorted_test_result):\n",
    "        if item[\"correct\"]:\n",
    "            correct += 1  \n",
    "        prec.append(float(correct) / (i + 1))\n",
    "        recall.append(float(correct) / not_NA_rels)\n",
    "    auc = sklearn.metrics.auc(x = recall, y = prec)\n",
    "    end = time.time()\n",
    "    global best_auc\n",
    "    if auc > best_auc:\n",
    "        fname = fname_prefix + str(best_auc)[:6]\n",
    "        if os.path.exists(fname):\n",
    "           os.remove(fanme) \n",
    "        best_auc = auc\n",
    "        fname = fname_prefix + str(auc)[:6] \n",
    "        print(\"Saving model {}\".format(fname))\n",
    "        model.msaver(os.path.join(\"saved\", \"models\", fname))\n",
    "    return auc\n",
    "\n",
    "def train_epoch(pairs, epoch_no, learning_rate, model):\n",
    "    losses = []\n",
    "    aucs = []\n",
    "    print(\"Setting learning rate for the epoch no {} to : {}\".format(epoch_no, learning_rate))\n",
    "    n_batches = len(pairs) // batch_size\n",
    "    print(\"No of batches : {} \\n \".format(n_batches))\n",
    "    curr_pairs = pairs\n",
    "    for i in range(n_batches):\n",
    "        if i % 100 == 0:\n",
    "            sys.stdout.write(\"\\033[K\")\n",
    "            print(\"Running for batch : {}/{}\".format(i + 1, n_batches))\n",
    "        \n",
    "        batch_keys = curr_pairs[i * batch_size : (i + 1) * batch_size]\n",
    "        words, pos1, pos2, inst_rels, masks, lengths, \\\n",
    "            rels, scope = batch_maker(train_data, batch_keys)\n",
    "        loss_, x= model.train_batch(\n",
    "          words, pos1, pos2, inst_rels, masks, lengths,\n",
    "          rels, scope, learning_rate)\n",
    "\n",
    "        if loss_ > 10:\n",
    "            temp = []\n",
    "            for i in range(x.shape[0]):\n",
    "                for j in range(x.shape[1]):\n",
    "                    temp.append((x[i][j], i, j))\n",
    "            print(sorted(temp, reverse = True)[:100])\n",
    "            print(batch_keys[i])\n",
    "\n",
    "        if i%500 == 250:\n",
    "            print(i, end = \" \")\n",
    "            losses.append(loss_)\n",
    "            auc1 = test_model(n_test_batches, test_pairs, test_pairs_dict, test_data)\n",
    "            print(\"Test AUC : \", auc1)\n",
    "            aucs.append(auc1)\n",
    "\n",
    "    print(\"Testing after epoch : \")\n",
    "    auc1 = test_model(n_test_batches, test_pairs, test_pairs_dict, test_data)\n",
    "    print(\"Test Auc : \", auc1)\n",
    "    aucs.append(auc1)\n",
    "    return losses, aucs\n",
    "\n",
    "\n"
   ]
  },
  {
   "cell_type": "code",
   "execution_count": 80,
   "metadata": {},
   "outputs": [
    {
     "name": "stdout",
     "output_type": "stream",
     "text": [
      "Creating model with encoder and selector :  pcnn att\n",
      "121 (?, 120, 230)\n",
      "121 (?, 120, 230)\n",
      "(?, 690)\n",
      "Created model with no bootstrapping, bs val : 0.0\n",
      "Train vars last :  [<tf.Variable 'attention/logit/relation_matrix:0' shape=(53, 690) dtype=float32_ref>, <tf.Variable 'attention/logit/bias:0' shape=(53,) dtype=float32_ref>]\n",
      "Train vars others :  [<tf.Variable 'word_embedding/word_embedding:0' shape=(114042, 50) dtype=float32_ref>, <tf.Variable 'word_embedding/unk_word_embedding:0' shape=(1, 50) dtype=float32_ref>, <tf.Variable 'word_embedding/start_word_embedding:0' shape=(1, 50) dtype=float32_ref>, <tf.Variable 'word_embedding/end_word_embedding:0' shape=(1, 50) dtype=float32_ref>, <tf.Variable 'pos_embedding/real_pos1_embedding:0' shape=(240, 5) dtype=float32_ref>, <tf.Variable 'pos_embedding/real_pos2_embedding:0' shape=(240, 5) dtype=float32_ref>, <tf.Variable 'pcnn/conv1d/kernel:0' shape=(3, 60, 230) dtype=float32_ref>, <tf.Variable 'pcnn/conv1d/bias:0' shape=(230,) dtype=float32_ref>]\n",
      "Loded model from path : saved/models/pcnn_att_nyt2_none_53_n_0_0.3386\n",
      "INFO:tensorflow:Restoring parameters from saved/models/pcnn_att_nyt2_none_53_n_0_0.3386\n",
      "Resetting adam optimizer variables.\n"
     ]
    }
   ],
   "source": [
    "check_pt = \"pcnn_att_nyt2_none_53_n_0_0.3386\"\n",
    "tf.reset_default_graph()\n",
    "model = ModelFt(\n",
    "    word_vec_mat, \n",
    "    encoder = encoder, \n",
    "    selector = selector, \n",
    "    l2_lambda = l2_lambd, \n",
    "    no_of_classes = max_classes, load_logit=False)\n",
    "model.mloader(os.path.join(\"saved\", \"models\", check_pt))\n",
    "model.reset_optimizer()"
   ]
  },
  {
   "cell_type": "code",
   "execution_count": 81,
   "metadata": {
    "scrolled": false
   },
   "outputs": [
    {
     "name": "stdout",
     "output_type": "stream",
     "text": [
      "Saving temp model\n",
      "Restoring temp model\n",
      "INFO:tensorflow:Restoring parameters from /tmp/abcd\n"
     ]
    },
    {
     "data": {
      "image/png": "[encoded data removed]",
      "text/plain": [
       "<Figure size 432x288 with 1 Axes>"
      ]
     },
     "metadata": {
      "needs_background": "light"
     },
     "output_type": "display_data"
    }
   ],
   "source": [
    "lr_vs_loss(model, 1e-6)"
   ]
  },
  {
   "cell_type": "code",
   "execution_count": 82,
   "metadata": {},
   "outputs": [
    {
     "name": "stdout",
     "output_type": "stream",
     "text": [
      "Training with all data.\n",
      "Setting learning rate for the epoch no 1 to : 0.001\n",
      "No of batches : 2192 \n",
      " \n",
      "\u001b[KRunning for batch : 1/2192\n",
      "\u001b[KRunning for batch : 101/2192\n",
      "\u001b[KRunning for batch : 201/2192\n",
      "250 Test AUC :  0.2243365062336267\n",
      "\u001b[KRunning for batch : 301/2192\n",
      "\u001b[KRunning for batch : 401/2192\n",
      "\u001b[KRunning for batch : 501/2192\n",
      "\u001b[KRunning for batch : 601/2192\n",
      "\u001b[KRunning for batch : 701/2192\n",
      "750 Test AUC :  0.29727721355513764\n",
      "\u001b[KRunning for batch : 801/2192\n",
      "\u001b[KRunning for batch : 901/2192\n",
      "\u001b[KRunning for batch : 1001/2192\n",
      "\u001b[KRunning for batch : 1101/2192\n",
      "\u001b[KRunning for batch : 1201/2192\n",
      "1250 Test AUC :  0.31851237965881884\n",
      "\u001b[KRunning for batch : 1301/2192\n",
      "\u001b[KRunning for batch : 1401/2192\n",
      "\u001b[KRunning for batch : 1501/2192\n",
      "\u001b[KRunning for batch : 1601/2192\n",
      "\u001b[KRunning for batch : 1701/2192\n",
      "1750 Test AUC :  0.313884982079891\n",
      "\u001b[KRunning for batch : 1801/2192\n",
      "\u001b[KRunning for batch : 1901/2192\n",
      "\u001b[KRunning for batch : 2001/2192\n",
      "\u001b[KRunning for batch : 2101/2192\n",
      "Testing after epoch : \n",
      "Test Auc :  0.3189055401357585\n"
     ]
    },
    {
     "data": {
      "text/plain": [
       "([0.16152012, 0.15178086, 0.10531716, 0.13332862],\n",
       " [0.2243365062336267,\n",
       "  0.29727721355513764,\n",
       "  0.31851237965881884,\n",
       "  0.313884982079891,\n",
       "  0.3189055401357585])"
      ]
     },
     "execution_count": 82,
     "metadata": {},
     "output_type": "execute_result"
    }
   ],
   "source": [
    "print(\"Training with all data.\")\n",
    "train_epoch(all_pairs[:len(all_pairs) // 2], 1, 1e-3, model)"
   ]
  },
  {
   "cell_type": "code",
   "execution_count": 83,
   "metadata": {},
   "outputs": [
    {
     "name": "stdout",
     "output_type": "stream",
     "text": [
      "Setting learning rate for the epoch no 1 to : 0.001\n",
      "No of batches : 359 \n",
      " \n",
      "\u001b[KRunning for batch : 1/359\n",
      "\u001b[KRunning for batch : 101/359\n",
      "\u001b[KRunning for batch : 201/359\n",
      "250 Test AUC :  0.28775806865752196\n",
      "\u001b[KRunning for batch : 301/359\n",
      "Testing after epoch : \n",
      "Test Auc :  0.2873739698493008\n"
     ]
    },
    {
     "data": {
      "text/plain": [
       "([0.00224147], [0.28775806865752196, 0.2873739698493008])"
      ]
     },
     "execution_count": 83,
     "metadata": {},
     "output_type": "execute_result"
    }
   ],
   "source": [
    "train_epoch(pairs, 1, 1e-3, model)"
   ]
  },
  {
   "cell_type": "code",
   "execution_count": 84,
   "metadata": {},
   "outputs": [
    {
     "name": "stdout",
     "output_type": "stream",
     "text": [
      "Setting learning rate for the epoch no 2 to : 0.001\n",
      "No of batches : 2192 \n",
      " \n",
      "\u001b[KRunning for batch : 1/2192\n",
      "\u001b[KRunning for batch : 101/2192\n",
      "\u001b[KRunning for batch : 201/2192\n",
      "250 Test AUC :  0.32765615855546393\n",
      "\u001b[KRunning for batch : 301/2192\n",
      "\u001b[KRunning for batch : 401/2192\n",
      "\u001b[KRunning for batch : 501/2192\n",
      "\u001b[KRunning for batch : 601/2192\n",
      "\u001b[KRunning for batch : 701/2192\n",
      "750 Test AUC :  0.32790966914867115\n",
      "\u001b[KRunning for batch : 801/2192\n",
      "\u001b[KRunning for batch : 901/2192\n",
      "\u001b[KRunning for batch : 1001/2192\n",
      "\u001b[KRunning for batch : 1101/2192\n",
      "\u001b[KRunning for batch : 1201/2192\n",
      "1250 Test AUC :  0.3082702666139706\n",
      "\u001b[KRunning for batch : 1301/2192\n",
      "\u001b[KRunning for batch : 1401/2192\n",
      "\u001b[KRunning for batch : 1501/2192\n",
      "\u001b[KRunning for batch : 1601/2192\n",
      "\u001b[KRunning for batch : 1701/2192\n",
      "1750 Test AUC :  0.3405799017308831\n",
      "\u001b[KRunning for batch : 1801/2192\n",
      "\u001b[KRunning for batch : 1901/2192\n",
      "\u001b[KRunning for batch : 2001/2192\n",
      "\u001b[KRunning for batch : 2101/2192\n",
      "Testing after epoch : \n",
      "Test Auc :  0.33787259069607256\n"
     ]
    },
    {
     "data": {
      "text/plain": [
       "([0.11876035, 0.12948889, 0.10471433, 0.09758467],\n",
       " [0.32765615855546393,\n",
       "  0.32790966914867115,\n",
       "  0.3082702666139706,\n",
       "  0.3405799017308831,\n",
       "  0.33787259069607256])"
      ]
     },
     "execution_count": 84,
     "metadata": {},
     "output_type": "execute_result"
    }
   ],
   "source": [
    "train_epoch(all_pairs[len(all_pairs) // 2:], 2, 1e-3, model)"
   ]
  },
  {
   "cell_type": "code",
   "execution_count": 85,
   "metadata": {},
   "outputs": [
    {
     "name": "stdout",
     "output_type": "stream",
     "text": [
      "Setting learning rate for the epoch no 1 to : 0.001\n",
      "No of batches : 359 \n",
      " \n",
      "\u001b[KRunning for batch : 1/359\n",
      "\u001b[KRunning for batch : 101/359\n",
      "\u001b[KRunning for batch : 201/359\n",
      "250 Test AUC :  0.30973568923026384\n",
      "\u001b[KRunning for batch : 301/359\n",
      "Testing after epoch : \n",
      "Test Auc :  0.30917041368629866\n"
     ]
    },
    {
     "data": {
      "text/plain": [
       "([0.0011228989], [0.30973568923026384, 0.30917041368629866])"
      ]
     },
     "execution_count": 85,
     "metadata": {},
     "output_type": "execute_result"
    }
   ],
   "source": [
    "train_epoch(pairs, 1, 1e-3, model)"
   ]
  },
  {
   "cell_type": "code",
   "execution_count": 86,
   "metadata": {},
   "outputs": [
    {
     "name": "stdout",
     "output_type": "stream",
     "text": [
      "Setting learning rate for the epoch no 1 to : 0.001\n",
      "No of batches : 2192 \n",
      " \n",
      "\u001b[KRunning for batch : 1/2192\n",
      "\u001b[KRunning for batch : 101/2192\n",
      "\u001b[KRunning for batch : 201/2192\n",
      "250 Test AUC :  0.3322176669327207\n",
      "\u001b[KRunning for batch : 301/2192\n",
      "\u001b[KRunning for batch : 401/2192\n",
      "\u001b[KRunning for batch : 501/2192\n",
      "\u001b[KRunning for batch : 601/2192\n",
      "\u001b[KRunning for batch : 701/2192\n",
      "750 Test AUC :  0.3270888268407956\n",
      "\u001b[KRunning for batch : 801/2192\n",
      "\u001b[KRunning for batch : 901/2192\n",
      "\u001b[KRunning for batch : 1001/2192\n",
      "\u001b[KRunning for batch : 1101/2192\n",
      "\u001b[KRunning for batch : 1201/2192\n",
      "1250 Test AUC :  0.3278238865312191\n",
      "\u001b[KRunning for batch : 1301/2192\n",
      "\u001b[KRunning for batch : 1401/2192\n",
      "\u001b[KRunning for batch : 1501/2192\n",
      "\u001b[KRunning for batch : 1601/2192\n",
      "\u001b[KRunning for batch : 1701/2192\n",
      "1750 Test AUC :  0.3280877631281356\n",
      "\u001b[KRunning for batch : 1801/2192\n",
      "\u001b[KRunning for batch : 1901/2192\n",
      "\u001b[KRunning for batch : 2001/2192\n",
      "\u001b[KRunning for batch : 2101/2192\n",
      "Testing after epoch : \n",
      "Test Auc :  0.33229537895272343\n"
     ]
    },
    {
     "data": {
      "text/plain": [
       "([0.10762696, 0.17016278, 0.042928748, 0.12298589],\n",
       " [0.3322176669327207,\n",
       "  0.3270888268407956,\n",
       "  0.3278238865312191,\n",
       "  0.3280877631281356,\n",
       "  0.33229537895272343])"
      ]
     },
     "execution_count": 86,
     "metadata": {},
     "output_type": "execute_result"
    }
   ],
   "source": [
    "train_epoch(all_pairs[:len(all_pairs) // 2], 1, 1e-3, model)"
   ]
  },
  {
   "cell_type": "code",
   "execution_count": 87,
   "metadata": {},
   "outputs": [
    {
     "name": "stdout",
     "output_type": "stream",
     "text": [
      "Setting learning rate for the epoch no 1 to : 0.001\n",
      "No of batches : 359 \n",
      " \n",
      "\u001b[KRunning for batch : 1/359\n",
      "\u001b[KRunning for batch : 101/359\n",
      "\u001b[KRunning for batch : 201/359\n",
      "250 Test AUC :  0.31209249097784914\n",
      "\u001b[KRunning for batch : 301/359\n",
      "Testing after epoch : \n",
      "Test Auc :  0.3101978692498739\n"
     ]
    },
    {
     "data": {
      "text/plain": [
       "([0.0016218817], [0.31209249097784914, 0.3101978692498739])"
      ]
     },
     "execution_count": 87,
     "metadata": {},
     "output_type": "execute_result"
    }
   ],
   "source": [
    "train_epoch(pairs, 1, 1e-3, model)"
   ]
  },
  {
   "cell_type": "code",
   "execution_count": 88,
   "metadata": {},
   "outputs": [
    {
     "name": "stdout",
     "output_type": "stream",
     "text": [
      "Setting learning rate for the epoch no 2 to : 0.001\n",
      "No of batches : 2192 \n",
      " \n",
      "\u001b[KRunning for batch : 1/2192\n",
      "\u001b[KRunning for batch : 101/2192\n",
      "\u001b[KRunning for batch : 201/2192\n",
      "250 Test AUC :  0.33231717911356284\n",
      "\u001b[KRunning for batch : 301/2192\n",
      "\u001b[KRunning for batch : 401/2192\n",
      "\u001b[KRunning for batch : 501/2192\n",
      "\u001b[KRunning for batch : 601/2192\n",
      "\u001b[KRunning for batch : 701/2192\n",
      "750 Test AUC :  0.33023730333686935\n",
      "\u001b[KRunning for batch : 801/2192\n",
      "\u001b[KRunning for batch : 901/2192\n",
      "\u001b[KRunning for batch : 1001/2192\n",
      "\u001b[KRunning for batch : 1101/2192\n",
      "\u001b[KRunning for batch : 1201/2192\n",
      "1250 Test AUC :  0.3053215873445218\n",
      "\u001b[KRunning for batch : 1301/2192\n",
      "\u001b[KRunning for batch : 1401/2192\n",
      "\u001b[KRunning for batch : 1501/2192\n",
      "\u001b[KRunning for batch : 1601/2192\n",
      "\u001b[KRunning for batch : 1701/2192\n",
      "1750 Test AUC :  0.3310073064622209\n",
      "\u001b[KRunning for batch : 1801/2192\n",
      "\u001b[KRunning for batch : 1901/2192\n",
      "\u001b[KRunning for batch : 2001/2192\n",
      "\u001b[KRunning for batch : 2101/2192\n",
      "Testing after epoch : \n",
      "Test Auc :  0.3369745040978908\n"
     ]
    },
    {
     "data": {
      "text/plain": [
       "([0.06464577, 0.091266036, 0.1273012, 0.06926124],\n",
       " [0.33231717911356284,\n",
       "  0.33023730333686935,\n",
       "  0.3053215873445218,\n",
       "  0.3310073064622209,\n",
       "  0.3369745040978908])"
      ]
     },
     "execution_count": 88,
     "metadata": {},
     "output_type": "execute_result"
    }
   ],
   "source": [
    "train_epoch(all_pairs[len(all_pairs) // 2:], 2, 1e-3, model)"
   ]
  },
  {
   "cell_type": "code",
   "execution_count": null,
   "metadata": {},
   "outputs": [],
   "source": []
  }
 ],
 "metadata": {
  "kernelspec": {
   "display_name": "Python 3",
   "language": "python",
   "name": "python3"
  },
  "language_info": {
   "codemirror_mode": {
    "name": "ipython",
    "version": 3
   },
   "file_extension": ".py",
   "mimetype": "text/x-python",
   "name": "python",
   "nbconvert_exporter": "python",
   "pygments_lexer": "ipython3",
   "version": "3.6.8"
  }
 },
 "nbformat": 4,
 "nbformat_minor": 2
}
