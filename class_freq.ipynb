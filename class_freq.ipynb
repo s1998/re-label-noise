{
 "cells": [
  {
   "cell_type": "code",
   "execution_count": 1,
   "metadata": {},
   "outputs": [],
   "source": [
    "import pandas\n",
    "data = pandas.read_csv(\"./saved/pcnn_att_nyt2_none_53_n_0_0.3455_probabs_preds.csv\", header = None, prefix = \"col\")"
   ]
  },
  {
   "cell_type": "code",
   "execution_count": 3,
   "metadata": {},
   "outputs": [
    {
     "data": {
      "text/plain": [
       "0                       Syracuse#Onondaga Lake#48\n",
       "1                                 Turkey#Adana#48\n",
       "2                          Queens#Belle Harbor#48\n",
       "3                                Hokusai#Japan#28\n",
       "4               Chandrika Kumaratunga#Sri Lanka#8\n",
       "5                           California#McCloud#48\n",
       "6                      Pietro Annigoni#Florence#9\n",
       "7                    Barbara Stanwyck#Brooklyn#36\n",
       "8                           Jorge Amado#Brazil#28\n",
       "9                   Lauren Conrad#Laguna Beach#36\n",
       "10                       Roland Barthes#France#28\n",
       "11                  North Carolina#Mooresville#48\n",
       "12                          Amway#Richard DeVos#6\n",
       "13                     Simone de Beauvoir#Paris#8\n",
       "14                     Europe#Northern Ireland#48\n",
       "15                         Peter Pace#Brooklyn#36\n",
       "16                                 Ohio#Celina#48\n",
       "17                        Wilkie Collins#London#9\n",
       "18                Barnett Newman#New York City#36\n",
       "19                   Manhattan#Lower East Side#48\n",
       "20                             France#Limousin#48\n",
       "21                      Brooklyn#Wyckoff House#48\n",
       "22                      John Constable#England#28\n",
       "23                       Hamptons#East Hampton#48\n",
       "24            Republic of Ireland#County Louth#48\n",
       "25                 Vancouver Island#View Royal#48\n",
       "26                        Sergio Leone#Italian#33\n",
       "27                  Harry S. Truman#Kansas City#9\n",
       "28                Pacific Heights#San Francisco#1\n",
       "29                      Florida#Pembroke Pines#48\n",
       "                           ...                   \n",
       "280546                Brad Paisley#Dolly Parton#0\n",
       "280547                    Arlen Specter#Clinton#0\n",
       "280548                  Woody Allen#Victor Argo#0\n",
       "280549                               Dow#Boeing#0\n",
       "280550                  Ichiro Suzuki#Jim Thome#0\n",
       "280551                        Felix Schutz#John#0\n",
       "280552                 Ashley Battle#Mel Thomas#0\n",
       "280553                              Bronx#Ghana#0\n",
       "280554            Meryl Streep#Garrison Keillor#0\n",
       "280555         Reese Witherspoon#Clint Eastwood#0\n",
       "280556                        Richard#Manhattan#0\n",
       "280557                    Robert Jaffe#New York#0\n",
       "280558     Vincent F. Seyfried#Long Island City#0\n",
       "280559                             Ronald#Royce#0\n",
       "280560                              Jane#London#0\n",
       "280561                             Ohio#Wilkins#0\n",
       "280562                      Clarksdale#Williams#0\n",
       "280563                     Fresno#United States#0\n",
       "280564                            Roxbury#Miami#0\n",
       "280565                         New York#Kipling#0\n",
       "280566           Gerald Williams#Kerry Robinson#0\n",
       "280567    Standard Chartered Bank#United States#0\n",
       "280568                      East London#Stepney#0\n",
       "280569          Sacred Heart Church#Dobbs Ferry#0\n",
       "280570               Boston Scientific#Billings#0\n",
       "280571                               Lisa#Karma#0\n",
       "280572               Jack Kirby#Harvey Kurtzman#0\n",
       "280573                 South America#New Jersey#0\n",
       "280574                     Zandra Rhodes#London#0\n",
       "280575               Michael Moore#Jeff Daniels#0\n",
       "Name: col0, Length: 280576, dtype: object"
      ]
     },
     "execution_count": 3,
     "metadata": {},
     "output_type": "execute_result"
    }
   ],
   "source": [
    "data.col0"
   ]
  },
  {
   "cell_type": "code",
   "execution_count": 8,
   "metadata": {},
   "outputs": [],
   "source": [
    "class_count = {}\n",
    "for classes in range(53):\n",
    "    class_count[classes] = 0\n",
    "\n",
    "for c in data.col0:\n",
    "    class_count[int(c.split(\"#\")[2])] += 1"
   ]
  },
  {
   "cell_type": "code",
   "execution_count": 9,
   "metadata": {},
   "outputs": [
    {
     "data": {
      "text/plain": [
       "{0: 262324,\n",
       " 1: 483,\n",
       " 2: 1,\n",
       " 3: 2,\n",
       " 4: 2,\n",
       " 5: 0,\n",
       " 6: 174,\n",
       " 7: 0,\n",
       " 8: 1400,\n",
       " 9: 723,\n",
       " 10: 7,\n",
       " 11: 2,\n",
       " 12: 9,\n",
       " 13: 24,\n",
       " 14: 1,\n",
       " 15: 3,\n",
       " 16: 2,\n",
       " 17: 72,\n",
       " 18: 81,\n",
       " 19: 1,\n",
       " 20: 2,\n",
       " 21: 1,\n",
       " 22: 2,\n",
       " 23: 170,\n",
       " 24: 334,\n",
       " 25: 3,\n",
       " 26: 1,\n",
       " 27: 1,\n",
       " 28: 2430,\n",
       " 29: 1417,\n",
       " 30: 1,\n",
       " 31: 3,\n",
       " 32: 1,\n",
       " 33: 57,\n",
       " 34: 8,\n",
       " 35: 24,\n",
       " 36: 2299,\n",
       " 37: 22,\n",
       " 38: 1,\n",
       " 39: 3,\n",
       " 40: 3,\n",
       " 41: 2,\n",
       " 42: 7,\n",
       " 43: 8,\n",
       " 44: 2,\n",
       " 45: 7,\n",
       " 46: 3,\n",
       " 47: 135,\n",
       " 48: 7758,\n",
       " 49: 334,\n",
       " 50: 215,\n",
       " 51: 7,\n",
       " 52: 4}"
      ]
     },
     "execution_count": 9,
     "metadata": {},
     "output_type": "execute_result"
    }
   ],
   "source": [
    "class_count"
   ]
  },
  {
   "cell_type": "code",
   "execution_count": 11,
   "metadata": {},
   "outputs": [
    {
     "name": "stdout",
     "output_type": "stream",
     "text": [
      "(0, 262324)\n",
      "(48, 7758)\n",
      "(28, 2430)\n",
      "(36, 2299)\n",
      "(29, 1417)\n",
      "(8, 1400)\n",
      "(9, 723)\n",
      "(1, 483)\n",
      "(24, 334)\n",
      "(49, 334)\n",
      "(50, 215)\n",
      "(6, 174)\n",
      "(23, 170)\n",
      "(47, 135)\n",
      "(18, 81)\n",
      "(17, 72)\n",
      "(33, 57)\n",
      "(13, 24)\n",
      "(35, 24)\n",
      "(37, 22)\n",
      "(12, 9)\n",
      "(34, 8)\n",
      "(43, 8)\n",
      "(10, 7)\n",
      "(42, 7)\n",
      "(45, 7)\n",
      "(51, 7)\n",
      "(52, 4)\n",
      "(15, 3)\n",
      "(25, 3)\n",
      "(31, 3)\n",
      "(39, 3)\n",
      "(40, 3)\n",
      "(46, 3)\n",
      "(3, 2)\n",
      "(4, 2)\n",
      "(11, 2)\n",
      "(16, 2)\n",
      "(20, 2)\n",
      "(22, 2)\n",
      "(41, 2)\n",
      "(44, 2)\n",
      "(2, 1)\n",
      "(14, 1)\n",
      "(19, 1)\n",
      "(21, 1)\n",
      "(26, 1)\n",
      "(27, 1)\n",
      "(30, 1)\n",
      "(32, 1)\n",
      "(38, 1)\n",
      "(5, 0)\n",
      "(7, 0)\n"
     ]
    }
   ],
   "source": [
    "sorted_x = sorted(class_count.items(), key=lambda kv: kv[1], reverse=True)\n",
    "for k in sorted_x:\n",
    "    print(k)"
   ]
  },
  {
   "cell_type": "code",
   "execution_count": null,
   "metadata": {},
   "outputs": [],
   "source": []
  }
 ],
 "metadata": {
  "kernelspec": {
   "display_name": "Python 3",
   "language": "python",
   "name": "python3"
  },
  "language_info": {
   "codemirror_mode": {
    "name": "ipython",
    "version": 3
   },
   "file_extension": ".py",
   "mimetype": "text/x-python",
   "name": "python",
   "nbconvert_exporter": "python",
   "pygments_lexer": "ipython3",
   "version": "3.6.8"
  }
 },
 "nbformat": 4,
 "nbformat_minor": 2
}
